{
 "cells": [
  {
   "cell_type": "markdown",
   "metadata": {},
   "source": [
    "# Distribución de Probalidad Discreta"
   ]
  },
  {
   "cell_type": "markdown",
   "metadata": {},
   "source": [
    "# Distribución Bernoulli"
   ]
  },
  {
   "cell_type": "code",
   "execution_count": 1,
   "metadata": {},
   "outputs": [
    {
     "name": "stdout",
     "output_type": "stream",
     "text": [
      "Media 0.700000\n",
      "Varianza 0.210000\n",
      "Sesgo -0.872872\n",
      "Curtosis -1.238095\n"
     ]
    }
   ],
   "source": [
    "from scipy.stats import bernoulli\n",
    "import numpy as np\n",
    "p=0.7\n",
    "mean, var, skew, kurt = bernoulli.stats(p, moments = 'mskv')\n",
    "print(\"Media %f\"%mean)\n",
    "print(\"Varianza %f\"%var)\n",
    "print(\"Sesgo %f\"%skew)\n",
    "print(\"Curtosis %f\"%kurt)"
   ]
  },
  {
   "cell_type": "code",
   "execution_count": 4,
   "metadata": {},
   "outputs": [
    {
     "data": {
      "image/png": "[encoded data removed]",
      "text/plain": [
       "<Figure size 432x288 with 1 Axes>"
      ]
     },
     "metadata": {
      "needs_background": "light"
     },
     "output_type": "display_data"
    }
   ],
   "source": [
    "import matplotlib.pyplot as plt\n",
    "fix, ax = plt.subplots(1,1)\n",
    "x = bernoulli.rvs(p, size= 1000)\n",
    "ax.hist(x)\n",
    "plt.show()\n"
   ]
  },
  {
   "cell_type": "markdown",
   "metadata": {},
   "source": [
    "# Distribución Binomial"
   ]
  },
  {
   "cell_type": "markdown",
   "metadata": {},
   "source": [
    "Sea $X = B(n = 7, p = 0.4)$"
   ]
  },
  {
   "cell_type": "code",
   "execution_count": 20,
   "metadata": {},
   "outputs": [
    {
     "data": {
      "text/plain": [
       "[]"
      ]
     },
     "execution_count": 20,
     "metadata": {},
     "output_type": "execute_result"
    },
    {
     "data": {
      "image/png": "[encoded data removed]",
      "text/plain": [
       "<Figure size 432x288 with 1 Axes>"
      ]
     },
     "metadata": {
      "needs_background": "light"
     },
     "output_type": "display_data"
    }
   ],
   "source": [
    "from scipy.stats import binom\n",
    "n = 7\n",
    "p = 0.4\n",
    "\n",
    "fix, ax = plt.subplots(1,1)\n",
    "\n",
    "mean, var, skew, kurt = binom.stats(n,p, moments = 'mvsk')\n",
    "\n",
    "x = np.arange(binom.ppf(0.01,n,p), binom.ppf(0.999,n,p))\n",
    "ax.plot(x, binom.pmf(x,n,p), 'bo', ms=9, \n",
    "        label=\"Función de densidad B(7,0.4)\")\n",
    "ax.vlines(x,0, binom.pmf(x,n,p), colors ='blue', lw = 4, alpha= 0.5)\n",
    "\n",
    "plt.plot()\n",
    "\n"
   ]
  },
  {
   "cell_type": "code",
   "execution_count": 21,
   "metadata": {},
   "outputs": [
    {
     "name": "stdout",
     "output_type": "stream",
     "text": [
      "Media 2.800000\n",
      "Varianza 1.680000\n",
      "Sesgo 0.154303\n",
      "Curtosis -0.261905\n"
     ]
    }
   ],
   "source": [
    "print(\"Media %f\"%mean)\n",
    "print(\"Varianza %f\"%var)\n",
    "print(\"Sesgo %f\"%skew)\n",
    "print(\"Curtosis %f\"%kurt)"
   ]
  },
  {
   "cell_type": "markdown",
   "metadata": {},
   "source": [
    "# Distribución geométrica"
   ]
  },
  {
   "cell_type": "code",
   "execution_count": 3,
   "metadata": {},
   "outputs": [
    {
     "name": "stdout",
     "output_type": "stream",
     "text": [
      "Media 3.333333\n",
      "Varianza 7.777778\n",
      "Sesgo 2.031889\n",
      "Curtosis 6.128571\n"
     ]
    }
   ],
   "source": [
    "from scipy.stats import geom\n",
    "import matplotlib.pyplot as plt\n",
    "import numpy as np\n",
    "\n",
    "p = 0.3\n",
    "mean, var, skew, kurt = geom.stats(p, moments = 'mvsk')\n",
    "\n",
    "print(\"Media %f\"%mean)\n",
    "print(\"Varianza %f\"%var)\n",
    "print(\"Sesgo %f\"%skew)\n",
    "print(\"Curtosis %f\"%kurt)"
   ]
  },
  {
   "cell_type": "code",
   "execution_count": 5,
   "metadata": {},
   "outputs": [
    {
     "data": {
      "text/plain": [
       "[]"
      ]
     },
     "execution_count": 5,
     "metadata": {},
     "output_type": "execute_result"
    },
    {
     "data": {
      "image/png": "[encoded data removed]",
      "text/plain": [
       "<Figure size 432x288 with 1 Axes>"
      ]
     },
     "metadata": {
      "needs_background": "light"
     },
     "output_type": "display_data"
    }
   ],
   "source": [
    "fix, ax = plt.subplots(1,1)\n",
    "x = np.arange(geom.ppf(0.01,p), geom.ppf(0.99,p))\n",
    "ax.plot(x, geom.ppf(x,p), 'bo', ms=8, label = \"Función de probabilidad Distribución Geom(0.3)\")\n",
    "ax.vlines(x,0,geom.pmf(x,p), colors = 'b', lw=4, alpha=0.5)\n",
    "rv = geom(p)\n",
    "ax.vlines(x,0, rv.pmf(x), colors= 'k', linestyles = '--', lw=1, label=\"Frozen  PMF\")\n",
    "ax.legend(loc = 'best')\n",
    "plt.plot()\n"
   ]
  },
  {
   "cell_type": "code",
   "execution_count": 6,
   "metadata": {},
   "outputs": [
    {
     "data": {
      "image/png": "[encoded data removed]",
      "text/plain": [
       "<Figure size 432x288 with 1 Axes>"
      ]
     },
     "metadata": {
      "needs_background": "light"
     },
     "output_type": "display_data"
    }
   ],
   "source": [
    "fix, ax = plt.subplots(1,1)\n",
    "prob = geom.cdf(x,p)\n",
    "ax.plot(x,prob,'bo', ms= 8, label= \"Función de distribución acumulada\")\n",
    "plt.show()"
   ]
  },
  {
   "cell_type": "code",
   "execution_count": 7,
   "metadata": {},
   "outputs": [
    {
     "data": {
      "text/plain": [
       "(array([6.525e+03, 2.265e+03, 7.860e+02, 2.830e+02, 6.500e+01, 5.500e+01,\n",
       "        1.200e+01, 5.000e+00, 3.000e+00, 1.000e+00]),\n",
       " array([ 1. ,  3.8,  6.6,  9.4, 12.2, 15. , 17.8, 20.6, 23.4, 26.2, 29. ]),\n",
       " <a list of 10 Patch objects>)"
      ]
     },
     "execution_count": 7,
     "metadata": {},
     "output_type": "execute_result"
    },
    {
     "data": {
      "image/png": "[encoded data removed]",
      "text/plain": [
       "<Figure size 432x288 with 1 Axes>"
      ]
     },
     "metadata": {
      "needs_background": "light"
     },
     "output_type": "display_data"
    }
   ],
   "source": [
    "fix, ax = plt.subplots(1,1)\n",
    "r = geom.rvs(p, size=10000)\n",
    "plt.hist(r)"
   ]
  },
  {
   "cell_type": "markdown",
   "metadata": {},
   "source": [
    "# Distribución Hipergeométrica"
   ]
  },
  {
   "cell_type": "code",
   "execution_count": 14,
   "metadata": {},
   "outputs": [],
   "source": [
    "from scipy.stats import hypergeom\n",
    "import matplotlib.pyplot as plt\n",
    "import numpy as np\n",
    "\n",
    "[M, n, N] = [20,7,12]\n",
    "rv = hypergeom(M, n, N)\n",
    "x = np.arange(0, n+1)\n",
    "y = rv.pmf(x)"
   ]
  },
  {
   "cell_type": "code",
   "execution_count": 16,
   "metadata": {},
   "outputs": [
    {
     "data": {
      "image/png": "[encoded data removed]",
      "text/plain": [
       "<Figure size 432x288 with 1 Axes>"
      ]
     },
     "metadata": {
      "needs_background": "light"
     },
     "output_type": "display_data"
    }
   ],
   "source": [
    "fig = plt.figure()\n",
    "ax = fig.add_subplot(111)\n",
    "ax.plot(x, y, 'bo')\n",
    "ax.vlines(x,0,y, lw=2, alpha = 0.5)\n",
    "ax.set_xlabel(\"Número de perros entre los 12 elegidos al azar\")\n",
    "ax.set_ylabel(\"Distribución de probabilidad de H(13,7,12)\")\n",
    "plt.show()"
   ]
  },
  {
   "cell_type": "markdown",
   "metadata": {},
   "source": [
    "# Distribución de Poisson"
   ]
  },
  {
   "cell_type": "code",
   "execution_count": 5,
   "metadata": {},
   "outputs": [
    {
     "name": "stdout",
     "output_type": "stream",
     "text": [
      "Media 0.800000\n",
      "Varianza 0.800000\n",
      "Sesgo 1.118034\n",
      "Curtosis 1.250000\n"
     ]
    }
   ],
   "source": [
    "from scipy.stats import poisson\n",
    "import matplotlib.pyplot as plt\n",
    "import numpy as np\n",
    "mu = 0.8\n",
    "mean, var, skew, kurt = poisson.stats(mu, moments = 'mvsk')\n",
    "\n",
    "print(\"Media %f\"%mean)\n",
    "print(\"Varianza %f\"%var)\n",
    "print(\"Sesgo %f\"%skew)\n",
    "print(\"Curtosis %f\"%kurt)\n"
   ]
  },
  {
   "cell_type": "code",
   "execution_count": 7,
   "metadata": {},
   "outputs": [
    {
     "data": {
      "image/png": "[encoded data removed]",
      "text/plain": [
       "<Figure size 432x288 with 1 Axes>"
      ]
     },
     "metadata": {
      "needs_background": "light"
     },
     "output_type": "display_data"
    }
   ],
   "source": [
    "fig, ax = plt.subplots(1,1)\n",
    "x = np.arange(0,5)\n",
    "ax.plot(x, poisson.pmf(x,mu), 'bo', ms=8, label= 'Poisson(0.8)')\n",
    "ax.vlines(x,0, poisson.pmf(x,mu), colors ='b',  lw= 4, alpha=0.5)\n",
    "ax.legend(loc=\"best\", frameon=False)\n",
    "plt.show()"
   ]
  },
  {
   "cell_type": "code",
   "execution_count": null,
   "metadata": {},
   "outputs": [],
   "source": []
  },
  {
   "cell_type": "code",
   "execution_count": null,
   "metadata": {},
   "outputs": [],
   "source": []
  }
 ],
 "metadata": {
  "kernelspec": {
   "display_name": "Python 3",
   "language": "python",
   "name": "python3"
  },
  "language_info": {
   "codemirror_mode": {
    "name": "ipython",
    "version": 3
   },
   "file_extension": ".py",
   "mimetype": "text/x-python",
   "name": "python",
   "nbconvert_exporter": "python",
   "pygments_lexer": "ipython3",
   "version": "3.7.3"
  }
 },
 "nbformat": 4,
 "nbformat_minor": 2
}
