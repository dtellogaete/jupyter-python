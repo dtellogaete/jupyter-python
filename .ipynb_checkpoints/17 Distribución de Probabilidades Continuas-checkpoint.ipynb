{
 "cells": [
  {
   "cell_type": "markdown",
   "metadata": {},
   "source": [
    "# Distribución de Probabilidades Continuas"
   ]
  },
  {
   "cell_type": "markdown",
   "metadata": {},
   "source": [
    "## Distribución Uniforme "
   ]
  },
  {
   "cell_type": "code",
   "execution_count": 4,
   "metadata": {},
   "outputs": [
    {
     "name": "stdout",
     "output_type": "stream",
     "text": [
      "Media 0.500000\n",
      "Varianza 0.083333\n",
      "Sesgo 0.000000\n",
      "Curtosis -1.200000\n"
     ]
    },
    {
     "data": {
      "text/plain": [
       "[]"
      ]
     },
     "execution_count": 4,
     "metadata": {},
     "output_type": "execute_result"
    },
    {
     "data": {
      "image/png": "[encoded data removed]",
      "text/plain": [
       "<Figure size 432x288 with 1 Axes>"
      ]
     },
     "metadata": {
      "needs_background": "light"
     },
     "output_type": "display_data"
    }
   ],
   "source": [
    "from scipy.stats import uniform\n",
    "import matplotlib.pyplot as plt\n",
    "import numpy as np\n",
    "\n",
    "a = 0\n",
    "b = 1\n",
    "\n",
    "loc = a\n",
    "scale = b-a\n",
    "\n",
    "fig, ax = plt.subplots(1,1)\n",
    "\n",
    "mean, var, skew, kurt = uniform.stats(moments = 'mskv')\n",
    "print(\"Media %f\"%mean)\n",
    "print(\"Varianza %f\"%var)\n",
    "print(\"Sesgo %f\"%skew)\n",
    "print(\"Curtosis %f\"%kurt)\n",
    "\n",
    "rv = uniform(loc = loc, scale = scale)\n",
    "x = np.linspace(-0.1, 0.1, 120)\n",
    "ax.plot(x, rv.pdf(x), 'k-', lw = 2, label = \"U(0,1)\")\n",
    "ax.legend(loc= \"best\", frameon = False )\n",
    "plt.plot()"
   ]
  },
  {
   "cell_type": "code",
   "execution_count": 3,
   "metadata": {},
   "outputs": [
    {
     "name": "stdout",
     "output_type": "stream",
     "text": [
      "Media 0.100000\n",
      "Varianza 0.010000\n",
      "Sesgo 2.000000\n",
      "Curtosis 6.000000\n"
     ]
    },
    {
     "data": {
      "image/png": "[encoded data removed]",
      "text/plain": [
       "<Figure size 432x288 with 1 Axes>"
      ]
     },
     "metadata": {
      "needs_background": "light"
     },
     "output_type": "display_data"
    }
   ],
   "source": [
    "from scipy.stats import expon\n",
    "import matplotlib.pyplot as plt\n",
    "import numpy as np\n",
    "\n",
    "fig, ax = plt.subplots(1,1)\n",
    "\n",
    "lam = 10\n",
    "rv = expon(scale=1/lam)\n",
    "\n",
    "mean, var, skew, kurt = rv.stats(moments = 'mskv')\n",
    "print(\"Media %f\"%mean)\n",
    "print(\"Varianza %f\"%var)\n",
    "print(\"Sesgo %f\"%skew)\n",
    "print(\"Curtosis %f\"%kurt)\n",
    "\n",
    "x = np.linspace(0, 2, 1000)\n",
    "ax.plot(x, rv.pdf(x), 'r-', lw=5, alpha=0.6, label= \"Exp(10)\")\n",
    "\n",
    "plt.show()\n",
    "\n"
   ]
  },
  {
   "cell_type": "code",
   "execution_count": null,
   "metadata": {},
   "outputs": [],
   "source": []
  },
  {
   "cell_type": "code",
   "execution_count": null,
   "metadata": {},
   "outputs": [],
   "source": []
  },
  {
   "cell_type": "code",
   "execution_count": null,
   "metadata": {},
   "outputs": [],
   "source": []
  },
  {
   "cell_type": "code",
   "execution_count": null,
   "metadata": {},
   "outputs": [],
   "source": []
  },
  {
   "cell_type": "code",
   "execution_count": null,
   "metadata": {},
   "outputs": [],
   "source": []
  },
  {
   "cell_type": "code",
   "execution_count": null,
   "metadata": {},
   "outputs": [],
   "source": []
  }
 ],
 "metadata": {
  "kernelspec": {
   "display_name": "Python 3",
   "language": "python",
   "name": "python3"
  },
  "language_info": {
   "codemirror_mode": {
    "name": "ipython",
    "version": 3
   },
   "file_extension": ".py",
   "mimetype": "text/x-python",
   "name": "python",
   "nbconvert_exporter": "python",
   "pygments_lexer": "ipython3",
   "version": "3.7.3"
  }
 },
 "nbformat": 4,
 "nbformat_minor": 2
}
